{
 "cells": [
  {
   "cell_type": "code",
   "id": "initial_id",
   "metadata": {
    "collapsed": true,
    "ExecuteTime": {
     "end_time": "2024-05-26T12:57:50.501900Z",
     "start_time": "2024-05-26T12:57:50.458335Z"
    }
   },
   "source": [
    "import pandas as pd\n",
    "\n",
    "# Lade die CSV-Datei\n",
    "df = pd.read_csv('feeds.csv')\n",
    "\n",
    "# Gib die Daten aus\n",
    "print(df)"
   ],
   "outputs": [
    {
     "name": "stdout",
     "output_type": "stream",
     "text": [
      "                      created_at  entry_id    field1     field2   field3  \\\n",
      "0      2023-04-01T19:33:45+02:00         1  25.00000  310.00000  7.49650   \n",
      "1      2023-04-01T19:34:15+02:00         2  25.00000  305.00000  7.65190   \n",
      "2      2023-04-01T19:34:46+02:00         3  25.00000  312.00000  7.70370   \n",
      "3      2023-04-01T19:35:17+02:00         4  25.00000  307.00000  7.78140   \n",
      "4      2023-04-01T19:35:47+02:00         5  25.00000  303.00000  7.75550   \n",
      "...                          ...       ...       ...        ...      ...   \n",
      "34914  2024-05-26T12:32:16+02:00     34915  24.82812  273.68271  8.17171   \n",
      "34915  2024-05-26T13:02:49+02:00     34916  24.84063  274.79489  8.14296   \n",
      "34916  2024-05-26T13:33:22+02:00     34917  24.85813  275.27740  8.16058   \n",
      "34917  2024-05-26T14:03:56+02:00     34918  24.87125  275.26328  8.15488   \n",
      "34918  2024-05-26T14:34:29+02:00     34919  24.87875  274.31482  8.11810   \n",
      "\n",
      "       latitude  longitude  elevation  status  \n",
      "0           NaN        NaN        NaN     NaN  \n",
      "1           NaN        NaN        NaN     NaN  \n",
      "2           NaN        NaN        NaN     NaN  \n",
      "3           NaN        NaN        NaN     NaN  \n",
      "4           NaN        NaN        NaN     NaN  \n",
      "...         ...        ...        ...     ...  \n",
      "34914       NaN        NaN        NaN     NaN  \n",
      "34915       NaN        NaN        NaN     NaN  \n",
      "34916       NaN        NaN        NaN     NaN  \n",
      "34917       NaN        NaN        NaN     NaN  \n",
      "34918       NaN        NaN        NaN     NaN  \n",
      "\n",
      "[34919 rows x 9 columns]\n"
     ]
    }
   ],
   "execution_count": 19
  },
  {
   "metadata": {
    "ExecuteTime": {
     "end_time": "2024-05-26T12:57:50.517533Z",
     "start_time": "2024-05-26T12:57:50.502902Z"
    }
   },
   "cell_type": "code",
   "source": "df = df.drop(columns=['entry_id', 'latitude', 'longitude', 'elevation', 'status'])",
   "id": "26087664545846db",
   "outputs": [],
   "execution_count": 20
  },
  {
   "metadata": {
    "ExecuteTime": {
     "end_time": "2024-05-26T12:57:50.532564Z",
     "start_time": "2024-05-26T12:57:50.518534Z"
    }
   },
   "cell_type": "code",
   "source": "df = df.rename(columns={'field1': 'Temperatur', 'field2': 'TDS(ppm)', 'field3': 'pH'})",
   "id": "714ddcdd5880eb6f",
   "outputs": [],
   "execution_count": 21
  },
  {
   "metadata": {
    "ExecuteTime": {
     "end_time": "2024-05-26T12:57:50.548593Z",
     "start_time": "2024-05-26T12:57:50.533565Z"
    }
   },
   "cell_type": "code",
   "source": "len(df)",
   "id": "f8811531743355f4",
   "outputs": [
    {
     "data": {
      "text/plain": [
       "34919"
      ]
     },
     "execution_count": 22,
     "metadata": {},
     "output_type": "execute_result"
    }
   ],
   "execution_count": 22
  },
  {
   "metadata": {
    "ExecuteTime": {
     "end_time": "2024-05-26T12:57:50.564113Z",
     "start_time": "2024-05-26T12:57:50.549592Z"
    }
   },
   "cell_type": "code",
   "source": "df",
   "id": "a787a2e8fe6d1fc4",
   "outputs": [
    {
     "data": {
      "text/plain": [
       "                      created_at  Temperatur   TDS(ppm)       pH\n",
       "0      2023-04-01T19:33:45+02:00    25.00000  310.00000  7.49650\n",
       "1      2023-04-01T19:34:15+02:00    25.00000  305.00000  7.65190\n",
       "2      2023-04-01T19:34:46+02:00    25.00000  312.00000  7.70370\n",
       "3      2023-04-01T19:35:17+02:00    25.00000  307.00000  7.78140\n",
       "4      2023-04-01T19:35:47+02:00    25.00000  303.00000  7.75550\n",
       "...                          ...         ...        ...      ...\n",
       "34914  2024-05-26T12:32:16+02:00    24.82812  273.68271  8.17171\n",
       "34915  2024-05-26T13:02:49+02:00    24.84063  274.79489  8.14296\n",
       "34916  2024-05-26T13:33:22+02:00    24.85813  275.27740  8.16058\n",
       "34917  2024-05-26T14:03:56+02:00    24.87125  275.26328  8.15488\n",
       "34918  2024-05-26T14:34:29+02:00    24.87875  274.31482  8.11810\n",
       "\n",
       "[34919 rows x 4 columns]"
      ],
      "text/html": [
       "<div>\n",
       "<style scoped>\n",
       "    .dataframe tbody tr th:only-of-type {\n",
       "        vertical-align: middle;\n",
       "    }\n",
       "\n",
       "    .dataframe tbody tr th {\n",
       "        vertical-align: top;\n",
       "    }\n",
       "\n",
       "    .dataframe thead th {\n",
       "        text-align: right;\n",
       "    }\n",
       "</style>\n",
       "<table border=\"1\" class=\"dataframe\">\n",
       "  <thead>\n",
       "    <tr style=\"text-align: right;\">\n",
       "      <th></th>\n",
       "      <th>created_at</th>\n",
       "      <th>Temperatur</th>\n",
       "      <th>TDS(ppm)</th>\n",
       "      <th>pH</th>\n",
       "    </tr>\n",
       "  </thead>\n",
       "  <tbody>\n",
       "    <tr>\n",
       "      <th>0</th>\n",
       "      <td>2023-04-01T19:33:45+02:00</td>\n",
       "      <td>25.00000</td>\n",
       "      <td>310.00000</td>\n",
       "      <td>7.49650</td>\n",
       "    </tr>\n",
       "    <tr>\n",
       "      <th>1</th>\n",
       "      <td>2023-04-01T19:34:15+02:00</td>\n",
       "      <td>25.00000</td>\n",
       "      <td>305.00000</td>\n",
       "      <td>7.65190</td>\n",
       "    </tr>\n",
       "    <tr>\n",
       "      <th>2</th>\n",
       "      <td>2023-04-01T19:34:46+02:00</td>\n",
       "      <td>25.00000</td>\n",
       "      <td>312.00000</td>\n",
       "      <td>7.70370</td>\n",
       "    </tr>\n",
       "    <tr>\n",
       "      <th>3</th>\n",
       "      <td>2023-04-01T19:35:17+02:00</td>\n",
       "      <td>25.00000</td>\n",
       "      <td>307.00000</td>\n",
       "      <td>7.78140</td>\n",
       "    </tr>\n",
       "    <tr>\n",
       "      <th>4</th>\n",
       "      <td>2023-04-01T19:35:47+02:00</td>\n",
       "      <td>25.00000</td>\n",
       "      <td>303.00000</td>\n",
       "      <td>7.75550</td>\n",
       "    </tr>\n",
       "    <tr>\n",
       "      <th>...</th>\n",
       "      <td>...</td>\n",
       "      <td>...</td>\n",
       "      <td>...</td>\n",
       "      <td>...</td>\n",
       "    </tr>\n",
       "    <tr>\n",
       "      <th>34914</th>\n",
       "      <td>2024-05-26T12:32:16+02:00</td>\n",
       "      <td>24.82812</td>\n",
       "      <td>273.68271</td>\n",
       "      <td>8.17171</td>\n",
       "    </tr>\n",
       "    <tr>\n",
       "      <th>34915</th>\n",
       "      <td>2024-05-26T13:02:49+02:00</td>\n",
       "      <td>24.84063</td>\n",
       "      <td>274.79489</td>\n",
       "      <td>8.14296</td>\n",
       "    </tr>\n",
       "    <tr>\n",
       "      <th>34916</th>\n",
       "      <td>2024-05-26T13:33:22+02:00</td>\n",
       "      <td>24.85813</td>\n",
       "      <td>275.27740</td>\n",
       "      <td>8.16058</td>\n",
       "    </tr>\n",
       "    <tr>\n",
       "      <th>34917</th>\n",
       "      <td>2024-05-26T14:03:56+02:00</td>\n",
       "      <td>24.87125</td>\n",
       "      <td>275.26328</td>\n",
       "      <td>8.15488</td>\n",
       "    </tr>\n",
       "    <tr>\n",
       "      <th>34918</th>\n",
       "      <td>2024-05-26T14:34:29+02:00</td>\n",
       "      <td>24.87875</td>\n",
       "      <td>274.31482</td>\n",
       "      <td>8.11810</td>\n",
       "    </tr>\n",
       "  </tbody>\n",
       "</table>\n",
       "<p>34919 rows × 4 columns</p>\n",
       "</div>"
      ]
     },
     "execution_count": 23,
     "metadata": {},
     "output_type": "execute_result"
    }
   ],
   "execution_count": 23
  },
  {
   "metadata": {
    "ExecuteTime": {
     "end_time": "2024-05-26T13:01:21.036196Z",
     "start_time": "2024-05-26T13:01:21.019963Z"
    }
   },
   "cell_type": "code",
   "source": [
    "from datetime import datetime\n",
    "\n",
    "def convert_date_format(date_str):\n",
    "    # Umwandlung des Datums in ein datetime-Objekt\n",
    "    date_obj = datetime.fromisoformat(date_str)\n",
    "    # Formatierung des datetime-Objekts in das gewünschte Format\n",
    "    return date_obj.strftime(\"%Y-%m-%d %H:%M:%S.%f\")"
   ],
   "id": "60caa6871bf33ecd",
   "outputs": [],
   "execution_count": 24
  },
  {
   "metadata": {
    "ExecuteTime": {
     "end_time": "2024-05-26T13:01:27.507353Z",
     "start_time": "2024-05-26T13:01:27.290132Z"
    }
   },
   "cell_type": "code",
   "source": "df['created_at'] = df['created_at'].apply(convert_date_format)",
   "id": "ebf797095bfcd5fd",
   "outputs": [],
   "execution_count": 25
  },
  {
   "metadata": {
    "ExecuteTime": {
     "end_time": "2024-05-26T13:01:28.744083Z",
     "start_time": "2024-05-26T13:01:28.729152Z"
    }
   },
   "cell_type": "code",
   "source": "df",
   "id": "6b9feec3a4edcc5c",
   "outputs": [
    {
     "data": {
      "text/plain": [
       "                       created_at  Temperatur   TDS(ppm)       pH\n",
       "0      2023-04-01 19:33:45.000000    25.00000  310.00000  7.49650\n",
       "1      2023-04-01 19:34:15.000000    25.00000  305.00000  7.65190\n",
       "2      2023-04-01 19:34:46.000000    25.00000  312.00000  7.70370\n",
       "3      2023-04-01 19:35:17.000000    25.00000  307.00000  7.78140\n",
       "4      2023-04-01 19:35:47.000000    25.00000  303.00000  7.75550\n",
       "...                           ...         ...        ...      ...\n",
       "34914  2024-05-26 12:32:16.000000    24.82812  273.68271  8.17171\n",
       "34915  2024-05-26 13:02:49.000000    24.84063  274.79489  8.14296\n",
       "34916  2024-05-26 13:33:22.000000    24.85813  275.27740  8.16058\n",
       "34917  2024-05-26 14:03:56.000000    24.87125  275.26328  8.15488\n",
       "34918  2024-05-26 14:34:29.000000    24.87875  274.31482  8.11810\n",
       "\n",
       "[34919 rows x 4 columns]"
      ],
      "text/html": [
       "<div>\n",
       "<style scoped>\n",
       "    .dataframe tbody tr th:only-of-type {\n",
       "        vertical-align: middle;\n",
       "    }\n",
       "\n",
       "    .dataframe tbody tr th {\n",
       "        vertical-align: top;\n",
       "    }\n",
       "\n",
       "    .dataframe thead th {\n",
       "        text-align: right;\n",
       "    }\n",
       "</style>\n",
       "<table border=\"1\" class=\"dataframe\">\n",
       "  <thead>\n",
       "    <tr style=\"text-align: right;\">\n",
       "      <th></th>\n",
       "      <th>created_at</th>\n",
       "      <th>Temperatur</th>\n",
       "      <th>TDS(ppm)</th>\n",
       "      <th>pH</th>\n",
       "    </tr>\n",
       "  </thead>\n",
       "  <tbody>\n",
       "    <tr>\n",
       "      <th>0</th>\n",
       "      <td>2023-04-01 19:33:45.000000</td>\n",
       "      <td>25.00000</td>\n",
       "      <td>310.00000</td>\n",
       "      <td>7.49650</td>\n",
       "    </tr>\n",
       "    <tr>\n",
       "      <th>1</th>\n",
       "      <td>2023-04-01 19:34:15.000000</td>\n",
       "      <td>25.00000</td>\n",
       "      <td>305.00000</td>\n",
       "      <td>7.65190</td>\n",
       "    </tr>\n",
       "    <tr>\n",
       "      <th>2</th>\n",
       "      <td>2023-04-01 19:34:46.000000</td>\n",
       "      <td>25.00000</td>\n",
       "      <td>312.00000</td>\n",
       "      <td>7.70370</td>\n",
       "    </tr>\n",
       "    <tr>\n",
       "      <th>3</th>\n",
       "      <td>2023-04-01 19:35:17.000000</td>\n",
       "      <td>25.00000</td>\n",
       "      <td>307.00000</td>\n",
       "      <td>7.78140</td>\n",
       "    </tr>\n",
       "    <tr>\n",
       "      <th>4</th>\n",
       "      <td>2023-04-01 19:35:47.000000</td>\n",
       "      <td>25.00000</td>\n",
       "      <td>303.00000</td>\n",
       "      <td>7.75550</td>\n",
       "    </tr>\n",
       "    <tr>\n",
       "      <th>...</th>\n",
       "      <td>...</td>\n",
       "      <td>...</td>\n",
       "      <td>...</td>\n",
       "      <td>...</td>\n",
       "    </tr>\n",
       "    <tr>\n",
       "      <th>34914</th>\n",
       "      <td>2024-05-26 12:32:16.000000</td>\n",
       "      <td>24.82812</td>\n",
       "      <td>273.68271</td>\n",
       "      <td>8.17171</td>\n",
       "    </tr>\n",
       "    <tr>\n",
       "      <th>34915</th>\n",
       "      <td>2024-05-26 13:02:49.000000</td>\n",
       "      <td>24.84063</td>\n",
       "      <td>274.79489</td>\n",
       "      <td>8.14296</td>\n",
       "    </tr>\n",
       "    <tr>\n",
       "      <th>34916</th>\n",
       "      <td>2024-05-26 13:33:22.000000</td>\n",
       "      <td>24.85813</td>\n",
       "      <td>275.27740</td>\n",
       "      <td>8.16058</td>\n",
       "    </tr>\n",
       "    <tr>\n",
       "      <th>34917</th>\n",
       "      <td>2024-05-26 14:03:56.000000</td>\n",
       "      <td>24.87125</td>\n",
       "      <td>275.26328</td>\n",
       "      <td>8.15488</td>\n",
       "    </tr>\n",
       "    <tr>\n",
       "      <th>34918</th>\n",
       "      <td>2024-05-26 14:34:29.000000</td>\n",
       "      <td>24.87875</td>\n",
       "      <td>274.31482</td>\n",
       "      <td>8.11810</td>\n",
       "    </tr>\n",
       "  </tbody>\n",
       "</table>\n",
       "<p>34919 rows × 4 columns</p>\n",
       "</div>"
      ]
     },
     "execution_count": 26,
     "metadata": {},
     "output_type": "execute_result"
    }
   ],
   "execution_count": 26
  },
  {
   "metadata": {
    "ExecuteTime": {
     "end_time": "2024-05-26T13:03:18.859922Z",
     "start_time": "2024-05-26T13:03:18.735711Z"
    }
   },
   "cell_type": "code",
   "source": "df.to_csv('filtered_feeds.csv', index=False, sep=\";\")",
   "id": "87a1b2448b119224",
   "outputs": [],
   "execution_count": 29
  },
  {
   "metadata": {},
   "cell_type": "code",
   "outputs": [],
   "execution_count": null,
   "source": "",
   "id": "7bdbc88133e02e5b"
  }
 ],
 "metadata": {
  "kernelspec": {
   "display_name": "sanbox-env",
   "language": "python",
   "name": "sanbox-env"
  },
  "language_info": {
   "codemirror_mode": {
    "name": "ipython",
    "version": 2
   },
   "file_extension": ".py",
   "mimetype": "text/x-python",
   "name": "python",
   "nbconvert_exporter": "python",
   "pygments_lexer": "ipython2",
   "version": "2.7.6"
  }
 },
 "nbformat": 4,
 "nbformat_minor": 5
}
