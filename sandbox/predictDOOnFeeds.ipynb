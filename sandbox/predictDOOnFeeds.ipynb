{
 "cells": [
  {
   "cell_type": "code",
   "execution_count": null,
   "id": "initial_id",
   "metadata": {
    "collapsed": true
   },
   "outputs": [],
   "source": [
    ""
   ]
  },
  {
   "metadata": {
    "ExecuteTime": {
     "end_time": "2024-05-26T14:00:17.871882Z",
     "start_time": "2024-05-26T14:00:17.778386Z"
    }
   },
   "cell_type": "code",
   "source": [
    "import pandas as pd\n",
    "import numpy as np\n",
    "from tensorflow.keras.models import load_model\n",
    "\n",
    "# 1. Lade das trainierte Keras-Modell\n",
    "model = load_model(\"models/Wassertemp_pH-Sauerstoff.keras\")\n",
    "\n",
    "# 2. Lade und bereite den neuen Datensatz vor\n",
    "# Beispiel: CSV-Datei mit den Spalten 'temperatur' und 'ph'\n",
    "new_data = pd.read_csv('filtered_feeds.csv', delimiter=';')\n",
    "# Überprüfe die tatsächlichen Spaltennamen\n",
    "print(new_data.columns)"
   ],
   "id": "a76b3f4dd435ba8b",
   "outputs": [
    {
     "name": "stdout",
     "output_type": "stream",
     "text": [
      "Index(['created_at', 'Temperatur', 'TDS(ppm)', 'pH'], dtype='object')\n"
     ]
    }
   ],
   "execution_count": 4
  },
  {
   "metadata": {
    "ExecuteTime": {
     "end_time": "2024-05-26T14:00:22.379974Z",
     "start_time": "2024-05-26T14:00:22.370947Z"
    }
   },
   "cell_type": "code",
   "source": "input_features = new_data[['Temperatur', 'pH']]",
   "id": "91bd226f10c1f3f0",
   "outputs": [],
   "execution_count": 5
  },
  {
   "metadata": {
    "ExecuteTime": {
     "end_time": "2024-05-26T14:00:31.215768Z",
     "start_time": "2024-05-26T14:00:29.979456Z"
    }
   },
   "cell_type": "code",
   "source": [
    "# Konvertiere die Daten in ein numpy-Array\n",
    "input_array = input_features.to_numpy()\n",
    "\n",
    "# 3. Wende das Modell auf den neuen Datensatz an\n",
    "predictions = model.predict(input_array)"
   ],
   "id": "2704b6b5617887a5",
   "outputs": [
    {
     "name": "stdout",
     "output_type": "stream",
     "text": [
      "1092/1092 [==============================] - 1s 698us/step\n"
     ]
    }
   ],
   "execution_count": 6
  },
  {
   "metadata": {
    "ExecuteTime": {
     "end_time": "2024-05-26T14:00:40.236862Z",
     "start_time": "2024-05-26T14:00:40.225760Z"
    }
   },
   "cell_type": "code",
   "source": [
    "# Füge die Vorhersagen zu deinem DataFrame hinzu (optional)\n",
    "new_data['predicted_sauerstoff'] = predictions\n",
    "\n",
    "# Ausgabe der ersten paar Zeilen des DataFrame mit den Vorhersagen\n",
    "print(new_data.head())"
   ],
   "id": "4ee68cfdf42f2271",
   "outputs": [
    {
     "name": "stdout",
     "output_type": "stream",
     "text": [
      "                   created_at  Temperatur  TDS(ppm)      pH  \\\n",
      "0  2023-04-01 19:33:45.000000        25.0     310.0  7.4965   \n",
      "1  2023-04-01 19:34:15.000000        25.0     305.0  7.6519   \n",
      "2  2023-04-01 19:34:46.000000        25.0     312.0  7.7037   \n",
      "3  2023-04-01 19:35:17.000000        25.0     307.0  7.7814   \n",
      "4  2023-04-01 19:35:47.000000        25.0     303.0  7.7555   \n",
      "\n",
      "   predicted_sauerstoff  \n",
      "0              5.371840  \n",
      "1              5.472124  \n",
      "2              5.505552  \n",
      "3              5.555682  \n",
      "4              5.538975  \n"
     ]
    }
   ],
   "execution_count": 7
  },
  {
   "metadata": {},
   "cell_type": "code",
   "outputs": [],
   "execution_count": null,
   "source": "",
   "id": "de5f3f38cc0cb03"
  }
 ],
 "metadata": {
  "kernelspec": {
   "display_name": "sanbox-env",
   "language": "python",
   "name": "sanbox-env"
  },
  "language_info": {
   "codemirror_mode": {
    "name": "ipython",
    "version": 2
   },
   "file_extension": ".py",
   "mimetype": "text/x-python",
   "name": "python",
   "nbconvert_exporter": "python",
   "pygments_lexer": "ipython2",
   "version": "2.7.6"
  }
 },
 "nbformat": 4,
 "nbformat_minor": 5
}
