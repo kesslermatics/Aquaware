{
 "cells": [
  {
   "cell_type": "code",
   "metadata": {
    "ExecuteTime": {
     "end_time": "2024-05-13T13:01:15.669411Z",
     "start_time": "2024-05-13T13:01:14.051514Z"
    }
   },
   "source": [
    "import pandas as pd\n",
    "\n",
    "\n",
    "# Pfad zur CSV-Datei\n",
    "csv_file = 'wasserwerte_all.csv'\n",
    "\n",
    "# CSV-Datei einlesen\n",
    "data = pd.read_csv(csv_file, on_bad_lines='skip', sep=';')\n"
   ],
   "outputs": [],
   "execution_count": 2
  },
  {
   "cell_type": "code",
   "metadata": {
    "ExecuteTime": {
     "end_time": "2024-05-13T13:01:15.685012Z",
     "start_time": "2024-05-13T13:01:15.671410Z"
    }
   },
   "source": [
    "empty_columns = data.columns[data.isnull().all()]\n",
    "dropped_data = data.copy()\n",
    "dropped_data.drop(empty_columns, axis=1, inplace=True)"
   ],
   "outputs": [],
   "execution_count": 3
  },
  {
   "cell_type": "code",
   "metadata": {
    "ExecuteTime": {
     "end_time": "2024-05-13T13:01:15.700529Z",
     "start_time": "2024-05-13T13:01:15.687012Z"
    }
   },
   "source": [
    "dropped_data = dropped_data.dropna(thresh=100, axis=1)\n",
    "column_counts = dropped_data.count().sort_values(ascending=False)\n",
    "print(column_counts)"
   ],
   "outputs": [
    {
     "name": "stdout",
     "output_type": "stream",
     "text": [
      "Datum / Uhrzeit                                   1072\n",
      "Sauerstoff-Gehalt                                  955\n",
      "Wassertemperatur                                   952\n",
      "pH-Wert                                            948\n",
      "Nitrat-Stickstoff                                  936\n",
      "Ammonium-Stickstoff                                918\n",
      "ortho-Phosphat-Phosphor                            913\n",
      "Gesamt-Phosphor (P) gesamt                         854\n",
      "Nitrit-Stickstoff                                  804\n",
      "Leitfaehigkeit                                     779\n",
      "Abfiltrierbare Stoffe                              767\n",
      "Chlorid                                            765\n",
      "Sulfat                                             585\n",
      "Soaurekapazitat pH 4.3                             550\n",
      "Sichttiefe                                         511\n",
      "Chlorophyll-a                                      445\n",
      "DOC (Geloester organischer Kohlenstoff)            441\n",
      "Kaliumpermanganatverbrauch als O2                  436\n",
      "Lufttemperatur                                     434\n",
      "Magnesium                                          416\n",
      "TOC (Organischer Kohlenstoff)                      404\n",
      "Silicium geloest                                   403\n",
      "Calcium                                            396\n",
      "Gesamt-Stickstoff (N) gesamt                       391\n",
      "Eisen gesamt                                       385\n",
      "Coliforme B.                                       367\n",
      "E.Coli                                             366\n",
      "Phaeophytin                                        345\n",
      "Spektraler Absorptionskoeffizient (SAK) 254nm      328\n",
      "Gluehverlust der abfiltrierbaren Stoffe            259\n",
      "BSB1 (Biochem. Sauerstoffbedarf. 24h)              258\n",
      "Intestinale Enterokokken                           188\n",
      "Kupfer gesamt                                      185\n",
      "Zink gesamt                                        184\n",
      "Hydrogencarbonat                                   169\n",
      "Natrium                                            152\n",
      "Kalium                                             151\n",
      "BSB5 (Biochem. Sauerstoffbedarf. 5d)               149\n",
      "AOX (Adsorbierbare organ. Halogenverbindungen)     138\n",
      "Gesamt-Stickstoff (N) geloest                      120\n",
      "Blei gesamt                                        118\n",
      "Bor gesamt                                         104\n",
      "dtype: int64\n"
     ]
    }
   ],
   "execution_count": 4
  },
  {
   "cell_type": "code",
   "metadata": {
    "ExecuteTime": {
     "end_time": "2024-05-13T13:01:15.778212Z",
     "start_time": "2024-05-13T13:01:15.703051Z"
    }
   },
   "source": [
    "from sklearn.impute import KNNImputer\n",
    "import numpy as np\n",
    "\n",
    "filled_date = dropped_data.copy()\n",
    "# Datums-Spalte ignorieren für Imputation\n",
    "numeric_cols = filled_date.select_dtypes(include=[np.number]).columns\n",
    "\n",
    "# KNN-Imputer initialisieren\n",
    "imputer = KNNImputer(n_neighbors=5)\n",
    "\n",
    "# Numerische Spalten auswählen und Imputation durchführen\n",
    "filled_date[numeric_cols] = imputer.fit_transform(filled_date[numeric_cols])\n",
    "\n",
    "filled_date.count().sort_values(ascending=False)"
   ],
   "outputs": [
    {
     "ename": "ModuleNotFoundError",
     "evalue": "No module named 'sklearn'",
     "output_type": "error",
     "traceback": [
      "\u001B[1;31m---------------------------------------------------------------------------\u001B[0m",
      "\u001B[1;31mModuleNotFoundError\u001B[0m                       Traceback (most recent call last)",
      "Cell \u001B[1;32mIn[5], line 1\u001B[0m\n\u001B[1;32m----> 1\u001B[0m \u001B[38;5;28;01mfrom\u001B[39;00m \u001B[38;5;21;01msklearn\u001B[39;00m\u001B[38;5;21;01m.\u001B[39;00m\u001B[38;5;21;01mimpute\u001B[39;00m \u001B[38;5;28;01mimport\u001B[39;00m KNNImputer\n\u001B[0;32m      2\u001B[0m \u001B[38;5;28;01mimport\u001B[39;00m \u001B[38;5;21;01mnumpy\u001B[39;00m \u001B[38;5;28;01mas\u001B[39;00m \u001B[38;5;21;01mnp\u001B[39;00m\n\u001B[0;32m      4\u001B[0m filled_date \u001B[38;5;241m=\u001B[39m dropped_data\u001B[38;5;241m.\u001B[39mcopy()\n",
      "\u001B[1;31mModuleNotFoundError\u001B[0m: No module named 'sklearn'"
     ]
    }
   ],
   "execution_count": 5
  },
  {
   "cell_type": "code",
   "metadata": {},
   "source": [
    "def find_strongest_correlations(corr_matrix):\n",
    "    strongest = pd.Series(index=corr_matrix.columns)\n",
    "    for col in corr_matrix.columns:\n",
    "        # Setzen Sie die Korrelation mit sich selbst auf Null, um sie auszuschließen\n",
    "        corr_matrix.loc[col, col] = 0\n",
    "        # Finden Sie die Spalte mit der höchsten Korrelation\n",
    "        strongest[col] = corr_matrix[col].abs().idxmax()\n",
    "    return strongest"
   ],
   "outputs": [],
   "execution_count": null
  },
  {
   "cell_type": "code",
   "metadata": {},
   "source": [
    "filled_date.to_csv('wasserwerte_filled.csv', sep=';', index=False)"
   ],
   "outputs": [],
   "execution_count": null
  },
  {
   "cell_type": "code",
   "metadata": {},
   "source": [
    "import matplotlib.pyplot as plt\n",
    "\n",
    "plt.scatter(data['Wassertemperatur'], data['Sauerstoff-Gehalt'])\n",
    "plt.xlabel('pH-Wert')\n",
    "plt.ylabel('Sauerstoff-Gehalt')\n",
    "plt.title('Abhängigkeit zwischen Wassertemperatur und Sauerstoff-Gehalt')\n",
    "plt.show()"
   ],
   "outputs": [],
   "execution_count": null
  },
  {
   "cell_type": "code",
   "metadata": {},
   "source": [],
   "outputs": [],
   "execution_count": null
  },
  {
   "metadata": {},
   "cell_type": "code",
   "source": "",
   "outputs": [],
   "execution_count": null
  }
 ],
 "metadata": {
  "kernelspec": {
   "display_name": "Python (env)",
   "language": "python",
   "name": "env"
  },
  "language_info": {
   "codemirror_mode": {
    "name": "ipython",
    "version": 3
   },
   "file_extension": ".py",
   "mimetype": "text/x-python",
   "name": "python",
   "nbconvert_exporter": "python",
   "pygments_lexer": "ipython3",
   "version": "3.8.0"
  }
 },
 "nbformat": 4,
 "nbformat_minor": 2
}
